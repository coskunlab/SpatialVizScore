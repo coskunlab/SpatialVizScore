{
 "cells": [
  {
   "cell_type": "code",
   "execution_count": 36,
   "id": "bc72de65-6276-412e-9d7f-8915ad5401e6",
   "metadata": {},
   "outputs": [],
   "source": [
    "import os\n",
    "import sys\n",
    "\n",
    "import numpy as np\n",
    "import napari\n",
    "import h5py\n",
    "import pandas as pd\n",
    "import skimage.io\n",
    "from pathlib import Path"
   ]
  },
  {
   "cell_type": "code",
   "execution_count": 37,
   "id": "523e14a6-9a96-47e4-a491-99ac73fce4ce",
   "metadata": {},
   "outputs": [],
   "source": [
    "# Import path\n",
    "module_path = str(Path.cwd().parents[0])\n",
    "if module_path not in sys.path:\n",
    "    sys.path.append(module_path)\n",
    "    \n",
    "module_path = str(Path.cwd().parents[0] / \"src\")\n",
    "if module_path not in sys.path:\n",
    "    sys.path.append(module_path)\n",
    "    \n",
    "from config import *"
   ]
  },
  {
   "cell_type": "code",
   "execution_count": 38,
   "id": "08523410-2fc9-47fa-a86f-eb7ae8b0832a",
   "metadata": {},
   "outputs": [],
   "source": [
    "from skimage import exposure\n",
    "\n",
    "def get_masks(mask_folder):\n",
    "    '''\n",
    "    Function to get all mask from mask forlder\n",
    "    '''\n",
    "    # Read masks\n",
    "    masks = {}\n",
    "\n",
    "    for (dirpath, dirnames, filenames) in os.walk(mask_folder):\n",
    "        for name in sorted(filenames):\n",
    "            if \"tif\" in name:\n",
    "                filename = os.path.join(dirpath, name)\n",
    "                img = skimage.io.imread(filename)\n",
    "                condition = name.split('_')[1][:2]\n",
    "                masks[condition] = img\n",
    "            else:\n",
    "                continue\n",
    "    return masks\n",
    "\n",
    "def get_imgs(file_path, name):\n",
    "    f = h5py.File(file_path, 'r')\n",
    "    imgs = f[name]\n",
    "    labels = list(f[name].attrs['labels'])\n",
    "    return imgs, labels\n",
    "\n",
    "def blended_img(viewer):\n",
    "    import napari\n",
    "    import numpy as np\n",
    "    \n",
    "    blended = np.zeros(viewer.layers[0].data.shape + (4,))\n",
    "    for layer in viewer.layers:\n",
    "        # normalize data by clims\n",
    "        normalized_data = (layer.data - layer.contrast_limits[0]) / (\n",
    "        layer.contrast_limits[1] - layer.contrast_limits[0]\n",
    "    )\n",
    "        colormapped_data = layer.colormap.map(normalized_data.flatten())\n",
    "        colormapped_data = colormapped_data.reshape(normalized_data.shape + (4,))\n",
    "\n",
    "        blended = blended + colormapped_data\n",
    "    \n",
    "    blended = blended[:,:,:3]\n",
    "    p2, p98 = np.percentile(blended, (0.1, 99.9))\n",
    "    img_rescale = exposure.rescale_intensity(blended, in_range=(p2, p98), out_range=(0,255)).astype(np.uint8)\n",
    "    return img_rescale"
   ]
  },
  {
   "cell_type": "code",
   "execution_count": 39,
   "id": "ef8c70b0-a6ba-4250-9c7b-dfecc3ff6862",
   "metadata": {},
   "outputs": [],
   "source": [
    "data_ROI = data_dir / 'ROI_new'\n",
    "h5_data = data_ROI / f'TMA.hdf5'\n",
    "df = pd.read_csv(data_ROI / f\"info.csv\")\n",
    "\n",
    "ROIs = df.ROI.unique()\n",
    "masks = get_masks(data_ROI / 'masks')"
   ]
  },
  {
   "cell_type": "code",
   "execution_count": 40,
   "id": "a560ed70-4b1a-4148-9ccb-a6e2482b4dd9",
   "metadata": {},
   "outputs": [],
   "source": [
    "# print(markers)"
   ]
  },
  {
   "cell_type": "code",
   "execution_count": 41,
   "id": "33eaf7e1-e16e-498f-9074-7994b18354dc",
   "metadata": {},
   "outputs": [],
   "source": [
    "for roi in ROIs[-1:]:\n",
    "\n",
    "    imgs, markers = get_imgs(h5_data, str(roi))\n",
    "    mask = masks[str(roi)]\n",
    "    \n",
    "    ## 1\n",
    "    marker_subset = ['SMA', 'Vimentin', 'Pankeratin', 'E-cadherin', 'COL1']\n",
    "    colors = ['yellow', 'bop orange', 'magenta', 'red', 'cyan']\n",
    "    marker_index = [markers.index(marker) for marker in marker_subset] \n",
    "\n",
    "    viewer = napari.view_image(imgs[marker_index, :,:], channel_axis=0, name=marker_subset, colormap=colors, show=False)\n",
    "\n",
    "    img_RGB = blended_img(viewer)\n",
    "    skimage.io.imsave(f'{roi}_1.png', img_RGB)\n",
    "\n",
    "    ## 2\n",
    "    marker_subset = ['CD163', 'CD206', 'CD68', 'HLADR']\n",
    "    colors = ['red', 'magenta', 'green','cyan']\n",
    "    marker_index = [markers.index(marker) for marker in marker_subset] \n",
    "\n",
    "    viewer = napari.view_image(imgs[marker_index, :,:], channel_axis=0, name=marker_subset, colormap=colors, show=False)\n",
    "    img_RGB = blended_img(viewer)\n",
    "    skimage.io.imsave(f'{roi}_2.png', img_RGB)\n",
    "\n",
    "    ## 3\n",
    "    marker_subset = ['TCF1', 'CD103', 'CD8']\n",
    "    colors = ['red', 'magenta', 'cyan']\n",
    "    marker_index = [markers.index(marker) for marker in marker_subset] \n",
    "\n",
    "    viewer = napari.view_image(imgs[marker_index, :,:], channel_axis=0, name=marker_subset, colormap=colors, show=False)\n",
    "    img_RGB = blended_img(viewer)\n",
    "    skimage.io.imsave(f'{roi}_3.png', img_RGB)\n",
    "\n",
    "    ## 4\n",
    "    marker_subset = ['TCF1', 'CD103', 'CD4', 'CD3']\n",
    "    colors = ['red', 'magenta', 'cyan', 'yellow']\n",
    "    marker_index = [markers.index(marker) for marker in marker_subset] \n",
    "\n",
    "    viewer = napari.view_image(imgs[marker_index, :,:], channel_axis=0, name=marker_subset, colormap=colors, show=False)\n",
    "    img_RGB = blended_img(viewer)\n",
    "    skimage.io.imsave(f'{roi}_4.png', img_RGB)\n",
    "    \n"
   ]
  },
  {
   "cell_type": "code",
   "execution_count": 42,
   "id": "8bcc1c18-bc1c-4f24-a596-c3697c7cb4ba",
   "metadata": {},
   "outputs": [],
   "source": [
    "viewer = napari.view_image(imgs, channel_axis=0, name=markers)"
   ]
  },
  {
   "cell_type": "code",
   "execution_count": null,
   "id": "36fd9c15-aa48-477b-877f-8352bc10a6d8",
   "metadata": {},
   "outputs": [],
   "source": []
  }
 ],
 "metadata": {
  "kernelspec": {
   "display_name": "Python [conda env:new_codex]",
   "language": "python",
   "name": "conda-env-new_codex-py"
  },
  "language_info": {
   "codemirror_mode": {
    "name": "ipython",
    "version": 3
   },
   "file_extension": ".py",
   "mimetype": "text/x-python",
   "name": "python",
   "nbconvert_exporter": "python",
   "pygments_lexer": "ipython3",
   "version": "3.9.7"
  }
 },
 "nbformat": 4,
 "nbformat_minor": 5
}

{
 "cells": [
  {
   "cell_type": "code",
   "execution_count": 1,
   "metadata": {
    "ExecuteTime": {
     "end_time": "2021-01-04T20:51:45.420553Z",
     "start_time": "2021-01-04T20:51:44.659548Z"
    }
   },
   "outputs": [],
   "source": [
    "import os\n",
    "import sys\n",
    "from pathlib import Path\n",
    "\n",
    "import pandas as pd"
   ]
  },
  {
   "cell_type": "code",
   "execution_count": 2,
   "metadata": {
    "ExecuteTime": {
     "end_time": "2021-01-04T20:51:45.562548Z",
     "start_time": "2021-01-04T20:51:45.422554Z"
    }
   },
   "outputs": [],
   "source": [
    "%load_ext autoreload\n",
    "%autoreload 2"
   ]
  },
  {
   "cell_type": "code",
   "execution_count": 3,
   "metadata": {
    "ExecuteTime": {
     "end_time": "2021-01-04T20:51:45.657551Z",
     "start_time": "2021-01-04T20:51:45.565552Z"
    }
   },
   "outputs": [],
   "source": [
    "# Import path\n",
    "module_path = str(Path.cwd().parents[0])\n",
    "if module_path not in sys.path:\n",
    "    sys.path.append(module_path)"
   ]
  },
  {
   "cell_type": "code",
   "execution_count": 4,
   "metadata": {
    "ExecuteTime": {
     "end_time": "2021-01-04T20:51:45.794558Z",
     "start_time": "2021-01-04T20:51:45.660551Z"
    }
   },
   "outputs": [],
   "source": [
    "from config import *"
   ]
  },
  {
   "cell_type": "markdown",
   "metadata": {},
   "source": [
    "# Create dataset metadata"
   ]
  },
  {
   "cell_type": "code",
   "execution_count": 5,
   "metadata": {
    "ExecuteTime": {
     "end_time": "2021-01-04T20:51:45.899554Z",
     "start_time": "2021-01-04T20:51:45.798557Z"
    }
   },
   "outputs": [],
   "source": [
    "directories = sorted([str(f) for f in data_ROI.iterdir() if f.is_dir()])"
   ]
  },
  {
   "cell_type": "code",
   "execution_count": 6,
   "metadata": {
    "ExecuteTime": {
     "end_time": "2021-01-04T20:51:45.992558Z",
     "start_time": "2021-01-04T20:51:45.901557Z"
    }
   },
   "outputs": [],
   "source": [
    "grades = [\n",
    "    '2',\n",
    "    '2',\n",
    "    '2',\n",
    "    'AT',\n",
    "    '3',\n",
    "    '3',\n",
    "    '2',\n",
    "    'AT',\n",
    "    '',\n",
    "    'AT',\n",
    "    '2',\n",
    "    '1',\n",
    "    '',\n",
    "    '3'\n",
    "]\n",
    "\n",
    "stage = [\n",
    "    'I',\n",
    "    'I',\n",
    "    'II',\n",
    "    'AT',\n",
    "    'IIIA',\n",
    "    'I',\n",
    "    'II',\n",
    "    'AT',\n",
    "    'II',\n",
    "    'AT',\n",
    "    'I',\n",
    "    'IIIA',\n",
    "    'IIIB',\n",
    "    'II'\n",
    "]\n",
    "\n",
    "diagnosis = [\n",
    "    'Squamous cell carcinoma and cartilage tissue',\n",
    "    'Squamous cell carcinoma',\n",
    "    'Squamous cell carcinoma with necrosis',\n",
    "    'Cancer adjacent lung tissue',\n",
    "    'Squamous cell carcinoma',\n",
    "    'Squamous cell carcinoma',\n",
    "    'Squamous cell carcinoma',\n",
    "    'Cancer adjacent lung tissue',\n",
    "    'Adenosquamous carcinoma',\n",
    "    'Cancer adjacent lung tissue',\n",
    "    'Adenocarcinoma',\n",
    "    'Mucinous adenocarcinoma',\n",
    "    'Squamous cell carcinoma',\n",
    "    'Squamous cell carcinoma'\n",
    "]\n",
    "\n",
    "Pos = [f.split('_')[-1] for f in directories]"
   ]
  },
  {
   "cell_type": "code",
   "execution_count": 7,
   "metadata": {
    "ExecuteTime": {
     "end_time": "2021-01-04T20:51:46.144552Z",
     "start_time": "2021-01-04T20:51:45.996556Z"
    }
   },
   "outputs": [],
   "source": [
    "d = {\n",
    "    'Pos': Pos,\n",
    "    'Grades': grades,\n",
    "    'Stage': stage,\n",
    "    'Directory': directories\n",
    "}"
   ]
  },
  {
   "cell_type": "code",
   "execution_count": 8,
   "metadata": {
    "ExecuteTime": {
     "end_time": "2021-01-04T20:51:46.244553Z",
     "start_time": "2021-01-04T20:51:46.148549Z"
    }
   },
   "outputs": [],
   "source": [
    "df = pd.DataFrame(d)"
   ]
  },
  {
   "cell_type": "code",
   "execution_count": 9,
   "metadata": {
    "ExecuteTime": {
     "end_time": "2021-01-04T20:51:46.364554Z",
     "start_time": "2021-01-04T20:51:46.246550Z"
    }
   },
   "outputs": [],
   "source": [
    "df.to_csv(data_dir / 'metadata.csv', index=False)"
   ]
  },
  {
   "cell_type": "markdown",
   "metadata": {},
   "source": [
    "# Rename files"
   ]
  },
  {
   "cell_type": "code",
   "execution_count": 10,
   "metadata": {
    "ExecuteTime": {
     "end_time": "2021-01-04T20:51:46.749555Z",
     "start_time": "2021-01-04T20:51:46.367557Z"
    }
   },
   "outputs": [],
   "source": [
    "for dirpath, dirname, filenames in os.walk(data_ROI):\n",
    "    for name in filenames:\n",
    "        old_name = os.path.join(dirpath, name)\n",
    "        if 'White191Ir.tiff' in name:\n",
    "            new_name = name.split('.')[0] + '_DNA1.tiff'\n",
    "            os.rename(old_name, os.path.join(dirpath, new_name))\n",
    "        if 'White193Ir.tiff' in name:\n",
    "            new_name = name.split('.')[0] + '_DNA2.tiff'\n",
    "            os.rename(old_name, os.path.join(dirpath, new_name))\n",
    "        if 'H3K4me3.tiff' in name:\n",
    "            new_name = '_'.join(name.split('_')[:-1]) + '_H3K9me3.tiff'\n",
    "            os.rename(old_name, os.path.join(dirpath, new_name))"
   ]
  },
  {
   "cell_type": "code",
   "execution_count": null,
   "metadata": {},
   "outputs": [],
   "source": []
  }
 ],
 "metadata": {
  "kernelspec": {
   "display_name": "Python 3",
   "language": "python",
   "name": "python3"
  },
  "language_info": {
   "codemirror_mode": {
    "name": "ipython",
    "version": 3
   },
   "file_extension": ".py",
   "mimetype": "text/x-python",
   "name": "python",
   "nbconvert_exporter": "python",
   "pygments_lexer": "ipython3",
   "version": "3.6.10"
  },
  "toc": {
   "base_numbering": 1,
   "nav_menu": {},
   "number_sections": true,
   "sideBar": true,
   "skip_h1_title": false,
   "title_cell": "Table of Contents",
   "title_sidebar": "Contents",
   "toc_cell": false,
   "toc_position": {},
   "toc_section_display": true,
   "toc_window_display": false
  },
  "varInspector": {
   "cols": {
    "lenName": 16,
    "lenType": 16,
    "lenVar": 40
   },
   "kernels_config": {
    "python": {
     "delete_cmd_postfix": "",
     "delete_cmd_prefix": "del ",
     "library": "var_list.py",
     "varRefreshCmd": "print(var_dic_list())"
    },
    "r": {
     "delete_cmd_postfix": ") ",
     "delete_cmd_prefix": "rm(",
     "library": "var_list.r",
     "varRefreshCmd": "cat(var_dic_list()) "
    }
   },
   "types_to_exclude": [
    "module",
    "function",
    "builtin_function_or_method",
    "instance",
    "_Feature"
   ],
   "window_display": false
  }
 },
 "nbformat": 4,
 "nbformat_minor": 4
}

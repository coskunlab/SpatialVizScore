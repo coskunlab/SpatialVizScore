{
 "cells": [
  {
   "cell_type": "code",
   "execution_count": 1,
   "metadata": {
    "ExecuteTime": {
     "end_time": "2021-03-08T17:02:42.534442Z",
     "start_time": "2021-03-08T17:02:02.609471Z"
    }
   },
   "outputs": [],
   "source": [
    "import sys\n",
    "from pathlib import Path\n",
    "\n",
    "import matplotlib.pyplot as plt\n",
    "import matplotlib.pylab as pl\n",
    "from matplotlib.colors import ListedColormap\n",
    "import numpy as np\n",
    "import pandas as pd\n",
    "import umap\n",
    "from mpl_toolkits.mplot3d import Axes3D\n",
    "from skimage import measure\n",
    "from sklearn.decomposition import PCA"
   ]
  },
  {
   "cell_type": "code",
   "execution_count": 2,
   "metadata": {
    "ExecuteTime": {
     "end_time": "2021-03-08T17:02:42.823432Z",
     "start_time": "2021-03-08T17:02:42.538447Z"
    }
   },
   "outputs": [],
   "source": [
    "%load_ext autoreload\n",
    "%autoreload 2"
   ]
  },
  {
   "cell_type": "code",
   "execution_count": 3,
   "metadata": {
    "ExecuteTime": {
     "end_time": "2021-03-08T17:02:43.047433Z",
     "start_time": "2021-03-08T17:02:42.827433Z"
    }
   },
   "outputs": [],
   "source": [
    "# Import path for config\n",
    "module_path = str(Path.cwd().parents[0])\n",
    "if module_path not in sys.path:\n",
    "    sys.path.append(module_path)\n",
    "\n",
    "# Import path for src\n",
    "module_path = str(Path.cwd().parents[0] / \"src\")\n",
    "\n",
    "if module_path not in sys.path:\n",
    "    sys.path.append(module_path)"
   ]
  },
  {
   "cell_type": "code",
   "execution_count": 4,
   "metadata": {
    "ExecuteTime": {
     "end_time": "2021-03-08T17:02:45.115378Z",
     "start_time": "2021-03-08T17:02:43.050428Z"
    }
   },
   "outputs": [],
   "source": [
    "from config import *\n",
    "import my_io as io"
   ]
  },
  {
   "cell_type": "markdown",
   "metadata": {},
   "source": [
    "# Import metadata information"
   ]
  },
  {
   "cell_type": "code",
   "execution_count": 5,
   "metadata": {
    "ExecuteTime": {
     "end_time": "2021-03-08T17:02:45.459364Z",
     "start_time": "2021-03-08T17:02:45.120373Z"
    }
   },
   "outputs": [
    {
     "data": {
      "text/html": [
       "<div>\n",
       "<style scoped>\n",
       "    .dataframe tbody tr th:only-of-type {\n",
       "        vertical-align: middle;\n",
       "    }\n",
       "\n",
       "    .dataframe tbody tr th {\n",
       "        vertical-align: top;\n",
       "    }\n",
       "\n",
       "    .dataframe thead th {\n",
       "        text-align: right;\n",
       "    }\n",
       "</style>\n",
       "<table border=\"1\" class=\"dataframe\">\n",
       "  <thead>\n",
       "    <tr style=\"text-align: right;\">\n",
       "      <th></th>\n",
       "      <th>Pos</th>\n",
       "      <th>Grades</th>\n",
       "      <th>Stage</th>\n",
       "      <th>Directory</th>\n",
       "    </tr>\n",
       "  </thead>\n",
       "  <tbody>\n",
       "    <tr>\n",
       "      <th>0</th>\n",
       "      <td>B1</td>\n",
       "      <td>2</td>\n",
       "      <td>I</td>\n",
       "      <td>Y:\\coskun-lab\\Thomas\\Lung IMC\\data\\ROI\\ROI001_B1</td>\n",
       "    </tr>\n",
       "    <tr>\n",
       "      <th>1</th>\n",
       "      <td>B3</td>\n",
       "      <td>2</td>\n",
       "      <td>I</td>\n",
       "      <td>Y:\\coskun-lab\\Thomas\\Lung IMC\\data\\ROI\\ROI005_B3</td>\n",
       "    </tr>\n",
       "    <tr>\n",
       "      <th>2</th>\n",
       "      <td>B5</td>\n",
       "      <td>2</td>\n",
       "      <td>II</td>\n",
       "      <td>Y:\\coskun-lab\\Thomas\\Lung IMC\\data\\ROI\\ROI006_B5</td>\n",
       "    </tr>\n",
       "    <tr>\n",
       "      <th>3</th>\n",
       "      <td>C6</td>\n",
       "      <td>AT</td>\n",
       "      <td>AT</td>\n",
       "      <td>Y:\\coskun-lab\\Thomas\\Lung IMC\\data\\ROI\\ROI007_C6</td>\n",
       "    </tr>\n",
       "    <tr>\n",
       "      <th>4</th>\n",
       "      <td>D7</td>\n",
       "      <td>3</td>\n",
       "      <td>IIIA</td>\n",
       "      <td>Y:\\coskun-lab\\Thomas\\Lung IMC\\data\\ROI\\ROI008_D7</td>\n",
       "    </tr>\n",
       "  </tbody>\n",
       "</table>\n",
       "</div>"
      ],
      "text/plain": [
       "  Pos Grades Stage                                         Directory\n",
       "0  B1      2     I  Y:\\coskun-lab\\Thomas\\Lung IMC\\data\\ROI\\ROI001_B1\n",
       "1  B3      2     I  Y:\\coskun-lab\\Thomas\\Lung IMC\\data\\ROI\\ROI005_B3\n",
       "2  B5      2    II  Y:\\coskun-lab\\Thomas\\Lung IMC\\data\\ROI\\ROI006_B5\n",
       "3  C6     AT    AT  Y:\\coskun-lab\\Thomas\\Lung IMC\\data\\ROI\\ROI007_C6\n",
       "4  D7      3  IIIA  Y:\\coskun-lab\\Thomas\\Lung IMC\\data\\ROI\\ROI008_D7"
      ]
     },
     "execution_count": 5,
     "metadata": {},
     "output_type": "execute_result"
    }
   ],
   "source": [
    "df_metadata = pd.read_csv(data_dir / 'metadata.csv')\n",
    "df_metadata.head()"
   ]
  },
  {
   "cell_type": "code",
   "execution_count": 6,
   "metadata": {
    "ExecuteTime": {
     "end_time": "2021-03-08T17:02:45.702357Z",
     "start_time": "2021-03-08T17:02:45.463362Z"
    }
   },
   "outputs": [],
   "source": [
    "datasets = df_metadata.Directory.to_list()\n",
    "datasets = [name.split('\\\\')[-1] for name in datasets]"
   ]
  },
  {
   "cell_type": "code",
   "execution_count": 7,
   "metadata": {
    "ExecuteTime": {
     "end_time": "2021-03-08T17:02:45.979351Z",
     "start_time": "2021-03-08T17:02:45.708356Z"
    }
   },
   "outputs": [
    {
     "name": "stdout",
     "output_type": "stream",
     "text": [
      "['ROI001_B1', 'ROI005_B3', 'ROI006_B5', 'ROI007_C6', 'ROI008_D7', 'ROI009_D9', 'ROI012_E1', 'ROI015_B6', 'ROI016_F3', 'ROI017_F2', 'ROI018_G1', 'ROI019_G5', 'ROI020_E5', 'ROI021_E7']\n"
     ]
    }
   ],
   "source": [
    "print(datasets)"
   ]
  },
  {
   "cell_type": "code",
   "execution_count": 8,
   "metadata": {
    "ExecuteTime": {
     "end_time": "2021-03-08T17:02:46.217344Z",
     "start_time": "2021-03-08T17:02:45.982350Z"
    }
   },
   "outputs": [
    {
     "name": "stdout",
     "output_type": "stream",
     "text": [
      "ROI008_D7\n"
     ]
    }
   ],
   "source": [
    "# Define which dataset to work on \n",
    "dataset = datasets[4]\n",
    "print(dataset)"
   ]
  },
  {
   "cell_type": "markdown",
   "metadata": {},
   "source": [
    "# Read images and cell mask"
   ]
  },
  {
   "cell_type": "code",
   "execution_count": 9,
   "metadata": {
    "ExecuteTime": {
     "end_time": "2021-03-08T17:02:48.503284Z",
     "start_time": "2021-03-08T17:02:46.222349Z"
    }
   },
   "outputs": [
    {
     "name": "stdout",
     "output_type": "stream",
     "text": [
      "Image stack shape of (22, 800, 800)\n"
     ]
    }
   ],
   "source": [
    "imgs, markers = io.read_img(dataset, data_ROI)\n",
    "marker2img = dict(zip(markers, imgs))\n",
    "print(f'Image stack shape of {imgs.shape}')"
   ]
  },
  {
   "cell_type": "code",
   "execution_count": 10,
   "metadata": {
    "ExecuteTime": {
     "end_time": "2021-03-08T17:02:48.820281Z",
     "start_time": "2021-03-08T17:02:48.509283Z"
    }
   },
   "outputs": [
    {
     "name": "stdout",
     "output_type": "stream",
     "text": [
      "Mask shape of (800, 800)\n",
      "Number of cell is 3815\n"
     ]
    }
   ],
   "source": [
    "mask = io.read_cell_mask(dataset, data_ROI)\n",
    "print(f'Mask shape of {mask.shape}')\n",
    "print(f'Number of cell is {mask.max()}')"
   ]
  },
  {
   "cell_type": "code",
   "execution_count": 11,
   "metadata": {
    "ExecuteTime": {
     "end_time": "2021-03-08T17:02:53.111226Z",
     "start_time": "2021-03-08T17:02:48.823278Z"
    }
   },
   "outputs": [],
   "source": [
    "def get_cell_expression_level(marker2img_dict, mask):\n",
    "    # Get each cell region \n",
    "    morph_prop = pd.DataFrame(measure.regionprops_table(mask, properties=['label', 'area'])).set_index('label')\n",
    "    \n",
    "    # Multiple each cell region by mean intensity \n",
    "    df_list = []\n",
    "    for marker, img in marker2img_dict.items():\n",
    "        exp_prop = pd.DataFrame(measure.regionprops_table(mask, img, properties=['label','mean_intensity'])).set_index('label')\n",
    "        df = pd.DataFrame(morph_prop.values * exp_prop.values, index=morph_prop.index, columns=[marker])\n",
    "        df_list.append(df)\n",
    "        \n",
    "    df_exp = pd.concat(df_list, axis=1)\n",
    "    return df_exp \n",
    "\n",
    "df_exp = get_cell_expression_level(marker2img, mask)"
   ]
  },
  {
   "cell_type": "code",
   "execution_count": 12,
   "metadata": {
    "ExecuteTime": {
     "end_time": "2021-03-08T17:02:53.611212Z",
     "start_time": "2021-03-08T17:02:53.114227Z"
    }
   },
   "outputs": [
    {
     "data": {
      "text/html": [
       "<div>\n",
       "<style scoped>\n",
       "    .dataframe tbody tr th:only-of-type {\n",
       "        vertical-align: middle;\n",
       "    }\n",
       "\n",
       "    .dataframe tbody tr th {\n",
       "        vertical-align: top;\n",
       "    }\n",
       "\n",
       "    .dataframe thead th {\n",
       "        text-align: right;\n",
       "    }\n",
       "</style>\n",
       "<table border=\"1\" class=\"dataframe\">\n",
       "  <thead>\n",
       "    <tr style=\"text-align: right;\">\n",
       "      <th></th>\n",
       "      <th>cell_ID</th>\n",
       "      <th>SMA</th>\n",
       "      <th>Vimentin</th>\n",
       "      <th>PanKeratin</th>\n",
       "      <th>H3K9me3</th>\n",
       "      <th>PDL1</th>\n",
       "      <th>CD44</th>\n",
       "      <th>FoxP3</th>\n",
       "      <th>CD4</th>\n",
       "      <th>ECadherin</th>\n",
       "      <th>...</th>\n",
       "      <th>PD1</th>\n",
       "      <th>GranzymeB</th>\n",
       "      <th>Ki67</th>\n",
       "      <th>Col1</th>\n",
       "      <th>CD3</th>\n",
       "      <th>Histone3</th>\n",
       "      <th>CD45RO</th>\n",
       "      <th>MHCII</th>\n",
       "      <th>DNA1</th>\n",
       "      <th>DNA2</th>\n",
       "    </tr>\n",
       "  </thead>\n",
       "  <tbody>\n",
       "    <tr>\n",
       "      <th>0</th>\n",
       "      <td>cell_1</td>\n",
       "      <td>1167.0</td>\n",
       "      <td>1171.0</td>\n",
       "      <td>104.0</td>\n",
       "      <td>1320.0</td>\n",
       "      <td>360.0</td>\n",
       "      <td>317.0</td>\n",
       "      <td>157.0</td>\n",
       "      <td>461.0</td>\n",
       "      <td>506.0</td>\n",
       "      <td>...</td>\n",
       "      <td>124.0</td>\n",
       "      <td>105.0</td>\n",
       "      <td>137.0</td>\n",
       "      <td>464.0</td>\n",
       "      <td>455.0</td>\n",
       "      <td>3051.0</td>\n",
       "      <td>962.0</td>\n",
       "      <td>2737.0</td>\n",
       "      <td>8027.0</td>\n",
       "      <td>9616.0</td>\n",
       "    </tr>\n",
       "    <tr>\n",
       "      <th>1</th>\n",
       "      <td>cell_2</td>\n",
       "      <td>914.0</td>\n",
       "      <td>1988.0</td>\n",
       "      <td>2013.0</td>\n",
       "      <td>5314.0</td>\n",
       "      <td>908.0</td>\n",
       "      <td>435.0</td>\n",
       "      <td>325.0</td>\n",
       "      <td>189.0</td>\n",
       "      <td>3058.0</td>\n",
       "      <td>...</td>\n",
       "      <td>188.0</td>\n",
       "      <td>614.0</td>\n",
       "      <td>254.0</td>\n",
       "      <td>310.0</td>\n",
       "      <td>346.0</td>\n",
       "      <td>8401.0</td>\n",
       "      <td>1504.0</td>\n",
       "      <td>12624.0</td>\n",
       "      <td>17860.0</td>\n",
       "      <td>22686.0</td>\n",
       "    </tr>\n",
       "    <tr>\n",
       "      <th>2</th>\n",
       "      <td>cell_3</td>\n",
       "      <td>921.0</td>\n",
       "      <td>1214.0</td>\n",
       "      <td>137.0</td>\n",
       "      <td>744.0</td>\n",
       "      <td>246.0</td>\n",
       "      <td>198.0</td>\n",
       "      <td>51.0</td>\n",
       "      <td>337.0</td>\n",
       "      <td>542.0</td>\n",
       "      <td>...</td>\n",
       "      <td>101.0</td>\n",
       "      <td>103.0</td>\n",
       "      <td>23.0</td>\n",
       "      <td>630.0</td>\n",
       "      <td>229.0</td>\n",
       "      <td>1804.0</td>\n",
       "      <td>1140.0</td>\n",
       "      <td>2265.0</td>\n",
       "      <td>9271.0</td>\n",
       "      <td>11707.0</td>\n",
       "    </tr>\n",
       "    <tr>\n",
       "      <th>3</th>\n",
       "      <td>cell_4</td>\n",
       "      <td>542.0</td>\n",
       "      <td>1590.0</td>\n",
       "      <td>3536.0</td>\n",
       "      <td>4278.0</td>\n",
       "      <td>683.0</td>\n",
       "      <td>368.0</td>\n",
       "      <td>325.0</td>\n",
       "      <td>464.0</td>\n",
       "      <td>3214.0</td>\n",
       "      <td>...</td>\n",
       "      <td>112.0</td>\n",
       "      <td>1434.0</td>\n",
       "      <td>244.0</td>\n",
       "      <td>478.0</td>\n",
       "      <td>507.0</td>\n",
       "      <td>7364.0</td>\n",
       "      <td>2222.0</td>\n",
       "      <td>7520.0</td>\n",
       "      <td>19102.0</td>\n",
       "      <td>23370.0</td>\n",
       "    </tr>\n",
       "    <tr>\n",
       "      <th>4</th>\n",
       "      <td>cell_5</td>\n",
       "      <td>579.0</td>\n",
       "      <td>1778.0</td>\n",
       "      <td>896.0</td>\n",
       "      <td>3768.0</td>\n",
       "      <td>809.0</td>\n",
       "      <td>414.0</td>\n",
       "      <td>218.0</td>\n",
       "      <td>119.0</td>\n",
       "      <td>1802.0</td>\n",
       "      <td>...</td>\n",
       "      <td>207.0</td>\n",
       "      <td>280.0</td>\n",
       "      <td>69.0</td>\n",
       "      <td>247.0</td>\n",
       "      <td>259.0</td>\n",
       "      <td>6559.0</td>\n",
       "      <td>847.0</td>\n",
       "      <td>7757.0</td>\n",
       "      <td>8050.0</td>\n",
       "      <td>10211.0</td>\n",
       "    </tr>\n",
       "  </tbody>\n",
       "</table>\n",
       "<p>5 rows × 23 columns</p>\n",
       "</div>"
      ],
      "text/plain": [
       "  cell_ID     SMA  Vimentin  PanKeratin  H3K9me3   PDL1   CD44  FoxP3    CD4  \\\n",
       "0  cell_1  1167.0    1171.0       104.0   1320.0  360.0  317.0  157.0  461.0   \n",
       "1  cell_2   914.0    1988.0      2013.0   5314.0  908.0  435.0  325.0  189.0   \n",
       "2  cell_3   921.0    1214.0       137.0    744.0  246.0  198.0   51.0  337.0   \n",
       "3  cell_4   542.0    1590.0      3536.0   4278.0  683.0  368.0  325.0  464.0   \n",
       "4  cell_5   579.0    1778.0       896.0   3768.0  809.0  414.0  218.0  119.0   \n",
       "\n",
       "   ECadherin  ...    PD1  GranzymeB   Ki67   Col1    CD3  Histone3  CD45RO  \\\n",
       "0      506.0  ...  124.0      105.0  137.0  464.0  455.0    3051.0   962.0   \n",
       "1     3058.0  ...  188.0      614.0  254.0  310.0  346.0    8401.0  1504.0   \n",
       "2      542.0  ...  101.0      103.0   23.0  630.0  229.0    1804.0  1140.0   \n",
       "3     3214.0  ...  112.0     1434.0  244.0  478.0  507.0    7364.0  2222.0   \n",
       "4     1802.0  ...  207.0      280.0   69.0  247.0  259.0    6559.0   847.0   \n",
       "\n",
       "     MHCII     DNA1     DNA2  \n",
       "0   2737.0   8027.0   9616.0  \n",
       "1  12624.0  17860.0  22686.0  \n",
       "2   2265.0   9271.0  11707.0  \n",
       "3   7520.0  19102.0  23370.0  \n",
       "4   7757.0   8050.0  10211.0  \n",
       "\n",
       "[5 rows x 23 columns]"
      ]
     },
     "execution_count": 12,
     "metadata": {},
     "output_type": "execute_result"
    }
   ],
   "source": [
    "df_exp.index.names = ['cell_ID']\n",
    "df_exp.reset_index(inplace=True)\n",
    "df_exp['cell_ID'] = 'cell_' + df_exp['cell_ID'].astype(str)\n",
    "df_exp.to_csv('D7_expression.txt', sep='\\t', index=False)\n",
    "df_exp.head()"
   ]
  },
  {
   "cell_type": "code",
   "execution_count": 19,
   "metadata": {
    "ExecuteTime": {
     "end_time": "2021-03-08T17:12:03.924330Z",
     "start_time": "2021-03-08T17:12:02.981368Z"
    }
   },
   "outputs": [
    {
     "data": {
      "text/html": [
       "<div>\n",
       "<style scoped>\n",
       "    .dataframe tbody tr th:only-of-type {\n",
       "        vertical-align: middle;\n",
       "    }\n",
       "\n",
       "    .dataframe tbody tr th {\n",
       "        vertical-align: top;\n",
       "    }\n",
       "\n",
       "    .dataframe thead th {\n",
       "        text-align: right;\n",
       "    }\n",
       "</style>\n",
       "<table border=\"1\" class=\"dataframe\">\n",
       "  <thead>\n",
       "    <tr style=\"text-align: right;\">\n",
       "      <th></th>\n",
       "      <th>cell_ID</th>\n",
       "      <th>X</th>\n",
       "      <th>Y</th>\n",
       "    </tr>\n",
       "  </thead>\n",
       "  <tbody>\n",
       "    <tr>\n",
       "      <th>0</th>\n",
       "      <td>cell_1</td>\n",
       "      <td>149.347826</td>\n",
       "      <td>-5.086957</td>\n",
       "    </tr>\n",
       "    <tr>\n",
       "      <th>1</th>\n",
       "      <td>cell_2</td>\n",
       "      <td>297.873016</td>\n",
       "      <td>-4.626984</td>\n",
       "    </tr>\n",
       "    <tr>\n",
       "      <th>2</th>\n",
       "      <td>cell_3</td>\n",
       "      <td>767.955882</td>\n",
       "      <td>-2.602941</td>\n",
       "    </tr>\n",
       "    <tr>\n",
       "      <th>3</th>\n",
       "      <td>cell_4</td>\n",
       "      <td>108.853846</td>\n",
       "      <td>-6.061538</td>\n",
       "    </tr>\n",
       "    <tr>\n",
       "      <th>4</th>\n",
       "      <td>cell_5</td>\n",
       "      <td>553.796875</td>\n",
       "      <td>-6.437500</td>\n",
       "    </tr>\n",
       "  </tbody>\n",
       "</table>\n",
       "</div>"
      ],
      "text/plain": [
       "  cell_ID           X         Y\n",
       "0  cell_1  149.347826 -5.086957\n",
       "1  cell_2  297.873016 -4.626984\n",
       "2  cell_3  767.955882 -2.602941\n",
       "3  cell_4  108.853846 -6.061538\n",
       "4  cell_5  553.796875 -6.437500"
      ]
     },
     "execution_count": 19,
     "metadata": {},
     "output_type": "execute_result"
    }
   ],
   "source": [
    "df_coord = pd.DataFrame(measure.regionprops_table(mask, properties=['label','centroid'])).set_index('label')\n",
    "df_coord.index.names = ['cell_ID']\n",
    "df_coord.columns = ['Y', 'X']\n",
    "df_coord = df_coord[['X','Y']]\n",
    "df_coord['Y'] = -df_coord['Y']\n",
    "df_coord.reset_index(inplace=True)\n",
    "df_coord['cell_ID'] = 'cell_' + df_coord['cell_ID'].astype(str)\n",
    "df_coord.to_csv('D7_coord.txt', sep='\\t', index=False)\n",
    "df_coord.head()"
   ]
  },
  {
   "cell_type": "code",
   "execution_count": 18,
   "metadata": {
    "ExecuteTime": {
     "end_time": "2021-03-08T17:05:40.333465Z",
     "start_time": "2021-03-08T17:05:39.990473Z"
    }
   },
   "outputs": [
    {
     "data": {
      "text/html": [
       "<div>\n",
       "<style scoped>\n",
       "    .dataframe tbody tr th:only-of-type {\n",
       "        vertical-align: middle;\n",
       "    }\n",
       "\n",
       "    .dataframe tbody tr th {\n",
       "        vertical-align: top;\n",
       "    }\n",
       "\n",
       "    .dataframe thead th {\n",
       "        text-align: right;\n",
       "    }\n",
       "</style>\n",
       "<table border=\"1\" class=\"dataframe\">\n",
       "  <thead>\n",
       "    <tr style=\"text-align: right;\">\n",
       "      <th></th>\n",
       "      <th>cell_ID</th>\n",
       "      <th>Area</th>\n",
       "    </tr>\n",
       "  </thead>\n",
       "  <tbody>\n",
       "    <tr>\n",
       "      <th>0</th>\n",
       "      <td>cell_1</td>\n",
       "      <td>46</td>\n",
       "    </tr>\n",
       "    <tr>\n",
       "      <th>1</th>\n",
       "      <td>cell_2</td>\n",
       "      <td>126</td>\n",
       "    </tr>\n",
       "    <tr>\n",
       "      <th>2</th>\n",
       "      <td>cell_3</td>\n",
       "      <td>68</td>\n",
       "    </tr>\n",
       "    <tr>\n",
       "      <th>3</th>\n",
       "      <td>cell_4</td>\n",
       "      <td>130</td>\n",
       "    </tr>\n",
       "    <tr>\n",
       "      <th>4</th>\n",
       "      <td>cell_5</td>\n",
       "      <td>64</td>\n",
       "    </tr>\n",
       "  </tbody>\n",
       "</table>\n",
       "</div>"
      ],
      "text/plain": [
       "  cell_ID  Area\n",
       "0  cell_1    46\n",
       "1  cell_2   126\n",
       "2  cell_3    68\n",
       "3  cell_4   130\n",
       "4  cell_5    64"
      ]
     },
     "execution_count": 18,
     "metadata": {},
     "output_type": "execute_result"
    }
   ],
   "source": [
    "df_meta = pd.DataFrame(measure.regionprops_table(mask, properties=['label', 'area'])).set_index('label')\n",
    "df_meta.index.names = ['cell_ID']\n",
    "df_meta.columns = ['Area']\n",
    "df_meta.reset_index(inplace=True)\n",
    "df_meta['cell_ID'] = 'cell_' + df_meta['cell_ID'].astype(str)\n",
    "df_meta.to_csv('D7_meta.txt', sep='\\t', index=False)\n",
    "df_meta.head()"
   ]
  },
  {
   "cell_type": "code",
   "execution_count": null,
   "metadata": {},
   "outputs": [],
   "source": []
  },
  {
   "cell_type": "code",
   "execution_count": null,
   "metadata": {},
   "outputs": [],
   "source": []
  },
  {
   "cell_type": "code",
   "execution_count": null,
   "metadata": {},
   "outputs": [],
   "source": []
  }
 ],
 "metadata": {
  "kernelspec": {
   "display_name": "Python 3",
   "language": "python",
   "name": "python3"
  },
  "language_info": {
   "codemirror_mode": {
    "name": "ipython",
    "version": 3
   },
   "file_extension": ".py",
   "mimetype": "text/x-python",
   "name": "python",
   "nbconvert_exporter": "python",
   "pygments_lexer": "ipython3",
   "version": "3.8.6"
  },
  "toc": {
   "base_numbering": 1,
   "nav_menu": {},
   "number_sections": true,
   "sideBar": true,
   "skip_h1_title": false,
   "title_cell": "Table of Contents",
   "title_sidebar": "Contents",
   "toc_cell": false,
   "toc_position": {},
   "toc_section_display": true,
   "toc_window_display": false
  },
  "varInspector": {
   "cols": {
    "lenName": 16,
    "lenType": 16,
    "lenVar": 40
   },
   "kernels_config": {
    "python": {
     "delete_cmd_postfix": "",
     "delete_cmd_prefix": "del ",
     "library": "var_list.py",
     "varRefreshCmd": "print(var_dic_list())"
    },
    "r": {
     "delete_cmd_postfix": ") ",
     "delete_cmd_prefix": "rm(",
     "library": "var_list.r",
     "varRefreshCmd": "cat(var_dic_list()) "
    }
   },
   "types_to_exclude": [
    "module",
    "function",
    "builtin_function_or_method",
    "instance",
    "_Feature"
   ],
   "window_display": false
  }
 },
 "nbformat": 4,
 "nbformat_minor": 4
}

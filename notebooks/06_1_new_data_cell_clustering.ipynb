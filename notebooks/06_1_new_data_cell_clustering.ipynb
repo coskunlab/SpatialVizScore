{
 "cells": [
  {
   "cell_type": "code",
   "execution_count": null,
   "id": "333fb917-b40e-494e-ba4c-6e9c69e5cf19",
   "metadata": {
    "tags": []
   },
   "outputs": [],
   "source": [
    "import re\n",
    "import os \n",
    "import sys \n",
    "\n",
    "import numpy as np\n",
    "import matplotlib.pyplot as plt\n",
    "import skimage\n",
    "from skimage import io\n",
    "\n",
    "from pathlib import Path\n",
    "from tqdm.notebook import trange, tqdm\n",
    "from joblib import Parallel, delayed\n",
    "from skimage import exposure\n",
    "import h5py\n",
    "import pandas as pd\n",
    "import scanpy as sc\n",
    "import squidpy as sq\n",
    "sc.settings.verbosity = 3\n",
    "\n",
    "from matplotlib.pyplot import rc_context\n",
    "from sklearn.preprocessing import StandardScaler, MinMaxScaler\n",
    "\n",
    "from functools import reduce\n",
    "from matplotlib import cm, colors\n",
    "import scanorama\n",
    "import seaborn as sns \n",
    "import anndata as ad\n",
    "from PIL import Image"
   ]
  },
  {
   "cell_type": "code",
   "execution_count": null,
   "id": "5a671749-9b3e-4c1a-a330-b64def73e514",
   "metadata": {
    "ExecuteTime": {
     "end_time": "2021-07-14T19:33:02.059794Z",
     "start_time": "2021-07-14T19:33:01.813689Z"
    }
   },
   "outputs": [],
   "source": [
    "%load_ext autoreload\n",
    "%autoreload 2"
   ]
  },
  {
   "cell_type": "code",
   "execution_count": null,
   "id": "037a91f9-0fdc-4c46-8351-ab6640e67b65",
   "metadata": {
    "ExecuteTime": {
     "end_time": "2021-07-14T19:33:02.282241Z",
     "start_time": "2021-07-14T19:33:02.064739Z"
    },
    "jupyter": {
     "source_hidden": true
    },
    "tags": []
   },
   "outputs": [],
   "source": [
    "# Import path\n",
    "module_path = str(Path.cwd().parents[0])\n",
    "if module_path not in sys.path:\n",
    "    sys.path.append(module_path)\n",
    "    \n",
    "module_path = str(Path.cwd().parents[0] / \"src\")\n",
    "if module_path not in sys.path:\n",
    "    sys.path.append(module_path)\n",
    "    "
   ]
  },
  {
   "cell_type": "code",
   "execution_count": null,
   "id": "0f6e4e65-bac4-4db2-9738-c58cf9113b81",
   "metadata": {
    "ExecuteTime": {
     "end_time": "2021-07-14T19:33:03.599114Z",
     "start_time": "2021-07-14T19:33:02.688895Z"
    }
   },
   "outputs": [],
   "source": [
    "from config import *\n",
    "import my_io as io"
   ]
  },
  {
   "cell_type": "code",
   "execution_count": null,
   "id": "7f341ad2-da72-400d-8635-4ff000dcc103",
   "metadata": {},
   "outputs": [],
   "source": [
    "data_ROI = data_dir / 'ROI_new'"
   ]
  },
  {
   "cell_type": "markdown",
   "id": "9f56f805-593e-4a1a-85a3-7afc7a085eb5",
   "metadata": {
    "tags": []
   },
   "source": [
    "# Clustering"
   ]
  },
  {
   "cell_type": "code",
   "execution_count": null,
   "id": "9c24f020-6a86-47be-b63c-d878dada7caf",
   "metadata": {},
   "outputs": [],
   "source": [
    "import multiprocessing\n",
    "\n",
    "n_cpu = multiprocessing.cpu_count()"
   ]
  },
  {
   "cell_type": "code",
   "execution_count": null,
   "id": "09c68966-c9a5-47a5-9d16-9a0952f77547",
   "metadata": {},
   "outputs": [],
   "source": [
    "adata_path = data_ROI  / f\"raw.h5ad\""
   ]
  },
  {
   "cell_type": "code",
   "execution_count": null,
   "id": "26224351-6134-4b5b-bac0-aed1aeee3d56",
   "metadata": {},
   "outputs": [],
   "source": [
    "if os.path.exists(adata_path):\n",
    "    adata = ad.read_h5ad(adata_path)\n",
    "else:\n",
    "    print(\"Expression file not found\")"
   ]
  },
  {
   "cell_type": "code",
   "execution_count": null,
   "id": "1d83d0ab-0fb7-456d-8b12-7d1e7f707146",
   "metadata": {},
   "outputs": [],
   "source": [
    "sc.pp.scale(adata, max_value=2.5)"
   ]
  },
  {
   "cell_type": "code",
   "execution_count": null,
   "id": "055284c4-4cef-411f-801a-f8bb09dd8afa",
   "metadata": {},
   "outputs": [],
   "source": [
    "sc.tl.pca(adata, svd_solver='arpack')\n",
    "sc.pl.pca_variance_ratio(adata, log=True)"
   ]
  },
  {
   "cell_type": "code",
   "execution_count": null,
   "id": "bf19bb7a-b564-4c3f-b51e-fd55f7293070",
   "metadata": {},
   "outputs": [],
   "source": [
    "sc.pp.neighbors(adata, n_pcs=15)\n",
    "sc.tl.umap(adata, min_dist=1.0, spread=2.0)"
   ]
  },
  {
   "cell_type": "code",
   "execution_count": null,
   "id": "ba263960-f320-48f2-aee0-a1ead16eb312",
   "metadata": {},
   "outputs": [],
   "source": [
    "sc.tl.tsne(adata, n_pcs=15, n_jobs=n_cpu)"
   ]
  },
  {
   "cell_type": "code",
   "execution_count": null,
   "id": "46b8cb23-3a7a-4cbf-8a58-8bed46d78986",
   "metadata": {},
   "outputs": [],
   "source": [
    "adata.write(adata_path)"
   ]
  },
  {
   "cell_type": "code",
   "execution_count": null,
   "id": "fb06684a-4f0b-4bf7-a11b-d9054dcc69e0",
   "metadata": {},
   "outputs": [],
   "source": [
    "sc.tl.leiden(adata, resolution=0.5)"
   ]
  },
  {
   "cell_type": "code",
   "execution_count": null,
   "id": "39351b95-4dd4-411b-afa8-662768e31092",
   "metadata": {},
   "outputs": [],
   "source": [
    "sc.set_figure_params(format='png')\n",
    "\n",
    "with rc_context({'figure.figsize': (7, 7), 'figure.dpi': 100}):\n",
    "    fig = sc.pl.tsne(adata, color=['leiden'], size=5,\n",
    "                    legend_loc='on data', add_outline=True, \n",
    "               legend_fontsize=12, legend_fontoutline=2, \n",
    "               frameon=False,  title='clustering of cells')"
   ]
  },
  {
   "cell_type": "code",
   "execution_count": null,
   "id": "251947f2-c292-4236-ad24-c26cf9c3c8fa",
   "metadata": {},
   "outputs": [],
   "source": [
    "sc.set_figure_params(format='png')\n",
    "\n",
    "with rc_context({'figure.figsize': (7, 7), 'figure.dpi': 100}):\n",
    "    fig = sc.pl.tsne(adata, color=['ROI'], size=5,\n",
    "                    legend_loc='on data', add_outline=True, \n",
    "               legend_fontsize=12, legend_fontoutline=2, \n",
    "               frameon=False,  title='clustering of cells')"
   ]
  },
  {
   "cell_type": "code",
   "execution_count": null,
   "id": "edf8e0f7-2a72-487b-a48c-d3da2e2c9f01",
   "metadata": {},
   "outputs": [],
   "source": [
    "sc.tl.dendrogram(adata, groupby='leiden')"
   ]
  },
  {
   "cell_type": "code",
   "execution_count": null,
   "id": "99a71597-b7e1-40d7-b109-33df73581e1b",
   "metadata": {},
   "outputs": [],
   "source": [
    "sc.pl.matrixplot(adata, adata.var_names.tolist(), 'leiden', dendrogram=True,\n",
    "                 colorbar_title='mean z-score', cmap='RdBu_r', vmin=-2, vmax=2)"
   ]
  },
  {
   "cell_type": "code",
   "execution_count": null,
   "id": "0976013b-abd7-4afd-a00e-2f6876cfe737",
   "metadata": {},
   "outputs": [],
   "source": [
    "# remap some clusters\n",
    "cluster_join_dict = {str(i):str(i) for i in adata.obs['leiden'].unique().tolist()}\n",
    "cluster_join_dict['15'] = '1'"
   ]
  },
  {
   "cell_type": "code",
   "execution_count": null,
   "id": "c77bc88b-87bb-4070-97bc-23d2204c8a9a",
   "metadata": {},
   "outputs": [],
   "source": [
    "adata.obs['clusters'] = (\n",
    "    adata.obs[\"leiden\"]\n",
    "    .map(lambda x: cluster_join_dict.get(x, x))\n",
    "    .astype(\"category\")\n",
    ")\n",
    "\n",
    "adata.uns['clusters_colors'] = adata.uns['leiden_colors'][:len(np.unique(adata.obs['clusters']))]\n",
    "clusters = adata.obs['clusters'].unique().tolist()\n",
    "clusters.sort(key = int)"
   ]
  },
  {
   "cell_type": "code",
   "execution_count": null,
   "id": "0e51968f-2287-4421-bd96-4d8fe032159d",
   "metadata": {},
   "outputs": [],
   "source": [
    "adata.obs['clusters'] = adata.obs['clusters'].cat.reorder_categories(clusters)\n",
    "sc.tl.dendrogram(adata, groupby='clusters')"
   ]
  },
  {
   "cell_type": "code",
   "execution_count": null,
   "id": "a05e3ae1-b5d8-4ddc-aaeb-792726c1f4bf",
   "metadata": {},
   "outputs": [],
   "source": [
    "sc.pl.matrixplot(adata, adata.var_names.tolist(), 'clusters', dendrogram=True,\n",
    "                 colorbar_title='mean z-score', cmap='RdBu_r', vmin=-2, vmax=2)"
   ]
  },
  {
   "cell_type": "code",
   "execution_count": null,
   "id": "a93492f9-8c8b-4d10-9ab8-453268789b19",
   "metadata": {},
   "outputs": [],
   "source": [
    "sc.pl.heatmap(adata, adata.var_names.tolist(), 'clusters', dendrogram=True, cmap='RdBu_r', figsize=(7,10), vmin=-2, vmax=2)"
   ]
  },
  {
   "cell_type": "markdown",
   "id": "82e156bf-7dc5-4c3c-b4fa-256af7887ce2",
   "metadata": {},
   "source": [
    "# Viz"
   ]
  },
  {
   "cell_type": "code",
   "execution_count": null,
   "id": "767d6aaf-a473-46c2-a1e7-34889a459641",
   "metadata": {},
   "outputs": [],
   "source": [
    "import matplotlib \n",
    "\n",
    "def create_clustered_cell(mask, label2cell, my_cmap, **kwargs):\n",
    "    img = np.zeros((mask.shape[0], mask.shape[1], 3), dtype=np.uint8)\n",
    "    \n",
    "    for i, cells in tqdm(label2cell.items(), total=len(label2cell)):\n",
    "        rows, cols = np.where(np.isin(mask, cells))\n",
    "        img[rows, cols, :] = my_cmap[int(i)]\n",
    "    \n",
    "    return img "
   ]
  },
  {
   "cell_type": "code",
   "execution_count": null,
   "id": "4bfd60eb-4613-4fd3-bcbb-683461228687",
   "metadata": {},
   "outputs": [],
   "source": [
    "for batch in adata.obs['ROI'].unique():\n",
    "    adata_subset = adata[adata.obs['ROI'] == batch,]\n",
    "    with rc_context({'figure.figsize': (10, 10)}):\n",
    "        sc.pl.spatial(adata_subset, color=\"clusters\", spot_size=10)"
   ]
  },
  {
   "cell_type": "code",
   "execution_count": null,
   "id": "126b8ca9-a9dd-40a5-b10d-2aee196c0b17",
   "metadata": {
    "jupyter": {
     "source_hidden": true
    },
    "tags": []
   },
   "outputs": [],
   "source": [
    "colors = adata.uns['leiden_colors']\n",
    "labels = np.unique(adata.obs.leiden.tolist())\n",
    "\n",
    "colors_rgb = []\n",
    "for color in colors:\n",
    "    colors_rgb.append(matplotlib.colors.hex2color(color))\n",
    "colors_rgb = np.array(colors_rgb)*255\n",
    "colors_rgb = colors_rgb.astype(np.uint8)"
   ]
  },
  {
   "cell_type": "code",
   "execution_count": null,
   "id": "28a6986c-ec43-445c-af65-6014462c605d",
   "metadata": {},
   "outputs": [],
   "source": [
    "# Get label2cell dict\n",
    "label2cell = {}\n",
    "for l in labels:\n",
    "    cell_id = adata[adata.obs.leiden == l].obs.Cell.to_list()\n",
    "    label2cell[l] = cell_id\n",
    "\n",
    "img = create_clustered_cell(mask, label2cell, colors_rgb)"
   ]
  },
  {
   "cell_type": "code",
   "execution_count": null,
   "id": "87293cc9-b264-4171-82bb-e3f397062448",
   "metadata": {},
   "outputs": [],
   "source": [
    "macrophage = ['1', '9']\n",
    "with rc_context({'figure.figsize': (10, 10)}):\n",
    "    sc.pl.spatial(adata, color=\"leiden\", groups=macrophage ,spot_size=10)"
   ]
  },
  {
   "cell_type": "code",
   "execution_count": null,
   "id": "c00a9924-266a-4604-9989-fb7ff8fd4740",
   "metadata": {},
   "outputs": [],
   "source": [
    "# Get label2cell dict\n",
    "label2cell = {}\n",
    "for l in macrophage:\n",
    "    cell_id = adata[adata.obs.leiden == l].obs.Cell.to_list()\n",
    "    label2cell[l] = cell_id\n",
    "\n",
    "img = create_clustered_cell(mask, label2cell, colors_rgb)"
   ]
  },
  {
   "cell_type": "code",
   "execution_count": null,
   "id": "be1cded4-1d72-4b3b-a434-e4dbb1305726",
   "metadata": {},
   "outputs": [],
   "source": [
    "img = create_clustered_cell(mask, label2cell, colors_rgb)\n",
    "img = Image.fromarray(img)\n",
    "img"
   ]
  },
  {
   "cell_type": "code",
   "execution_count": null,
   "id": "9a7c9add-0cbc-4335-b381-0ddbd4becb0d",
   "metadata": {},
   "outputs": [],
   "source": [
    "# import napari \n",
    "\n",
    "# viewer = napari.view_image(np.stack(imgs_filtered), channel_axis=0, name=markers)\n",
    "# viewer.add_labels(mask)"
   ]
  },
  {
   "cell_type": "code",
   "execution_count": null,
   "id": "65ee5ae3-4ed8-4d5d-bead-59981423c39f",
   "metadata": {},
   "outputs": [],
   "source": []
  }
 ],
 "metadata": {
  "kernelspec": {
   "display_name": "Python [conda env:new_codex]",
   "language": "python",
   "name": "conda-env-new_codex-py"
  },
  "language_info": {
   "codemirror_mode": {
    "name": "ipython",
    "version": 3
   },
   "file_extension": ".py",
   "mimetype": "text/x-python",
   "name": "python",
   "nbconvert_exporter": "python",
   "pygments_lexer": "ipython3",
   "version": "3.9.7"
  }
 },
 "nbformat": 4,
 "nbformat_minor": 5
}
